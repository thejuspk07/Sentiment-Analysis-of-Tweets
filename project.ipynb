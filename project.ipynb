{
 "cells": [
  {
   "cell_type": "markdown",
   "id": "781ce268",
   "metadata": {},
   "source": [
    "# Tweet Sentiment Analysis\n",
    "\n",
    "This notebook demonstrates sentiment analysis on Twitter data using various machine learning approaches:\n",
    "1. Basic SVM classifier\n",
    "2. Hyperparameter tuning with GridSearchCV\n",
    "3. Ensemble learning with multiple classifiers\n",
    "\n",
    "The analysis includes:\n",
    "- Text preprocessing with NLTK\n",
    "- Feature extraction using TF-IDF\n",
    "- Model training and evaluation\n",
    "- Performance visualization"
   ]
  },
  {
   "cell_type": "markdown",
   "id": "ddaf9fae",
   "metadata": {},
   "source": [
    "## Setup and Data Preparation"
   ]
  },
  {
   "cell_type": "code",
   "execution_count": null,
   "id": "9383aeaf",
   "metadata": {},
   "outputs": [
    {
     "name": "stdout",
     "output_type": "stream",
     "text": [
      "Requirement already satisfied: nltk in c:\\users\\theju\\appdata\\local\\programs\\python\\python313\\lib\\site-packages (3.9.2)\n",
      "Requirement already satisfied: emoji in c:\\users\\theju\\appdata\\local\\programs\\python\\python313\\lib\\site-packages (2.15.0)\n",
      "Requirement already satisfied: click in c:\\users\\theju\\appdata\\local\\programs\\python\\python313\\lib\\site-packages (from nltk) (8.3.0)\n",
      "Requirement already satisfied: joblib in c:\\users\\theju\\appdata\\local\\programs\\python\\python313\\lib\\site-packages (from nltk) (1.5.2)\n",
      "Requirement already satisfied: regex>=2021.8.3 in c:\\users\\theju\\appdata\\local\\programs\\python\\python313\\lib\\site-packages (from nltk) (2025.9.18)\n",
      "Requirement already satisfied: tqdm in c:\\users\\theju\\appdata\\local\\programs\\python\\python313\\lib\\site-packages (from nltk) (4.67.1)\n",
      "Requirement already satisfied: colorama in c:\\users\\theju\\appdata\\local\\programs\\python\\python313\\lib\\site-packages (from click->nltk) (0.4.6)\n",
      "Note: you may need to restart the kernel to use updated packages.\n"
     ]
    }
   ],
   "source": [
    "# Install required packages (only needed first time)\n",
    "%pip install nltk emoji\n",
    "\n",
    "# Core data processing\n",
    "import pandas as pd\n",
    "import numpy as np\n",
    "\n",
    "# Machine learning\n",
    "from sklearn.feature_extraction.text import TfidfVectorizer\n",
    "from sklearn.model_selection import train_test_split, GridSearchCV\n",
    "from sklearn.svm import SVC\n",
    "from sklearn.ensemble import RandomForestClassifier, VotingClassifier\n",
    "from sklearn.linear_model import LogisticRegression\n",
    "from sklearn.metrics import classification_report, accuracy_score, confusion_matrix\n",
    "\n",
    "# Text processing\n",
    "import re\n",
    "import emoji\n",
    "import nltk\n",
    "from nltk.corpus import stopwords\n",
    "from nltk.stem import WordNetLemmatizer\n",
    "\n",
    "# Visualization\n",
    "import matplotlib.pyplot as plt\n",
    "import seaborn as sns\n",
    "\n",
    "# Download NLTK resources (quiet to avoid noise)\n",
    "nltk.download('wordnet', quiet=True)\n",
    "nltk.download('omw-1.4', quiet=True)\n",
    "nltk.download('stopwords', quiet=True)\n",
    "\n",
    "# Initialize NLTK tools\n",
    "lemmatizer = WordNetLemmatizer()\n",
    "stop_words = set(stopwords.words('english'))"
   ]
  },
  {
   "cell_type": "code",
   "execution_count": null,
   "id": "15376c27",
   "metadata": {},
   "outputs": [],
   "source": [
    "# Load and clean the dataset\n",
    "df = pd.read_csv(\"Tweets.csv\")\n",
    "df.dropna(subset=['text'], inplace=True)\n",
    "\n",
    "def clean_tweet_advanced(tweet):\n",
    "    tweet = str(tweet)\n",
    "    tweet = re.sub(r'http\\S+|www\\S+|@\\S+', '', tweet)       # remove urls/mentions\n",
    "    tweet = re.sub(r'[^A-Za-z0-9\\s!?]', '', tweet)          # keep basic punctuation\n",
    "    tweet = tweet.lower()\n",
    "    # Replace emojis with text\n",
    "    tweet = emoji.demojize(tweet)\n",
    "    # Handle negation\n",
    "    tweet = re.sub(r'\\bnot\\b (\\w+)', r'not_\\1', tweet)\n",
    "    words = [lemmatizer.lemmatize(w) for w in tweet.split() if w not in stop_words]\n",
    "    return \" \".join(words)\n",
    "\n",
    "# Clean the tweets\n",
    "df['cleaned_text'] = df['text'].apply(clean_tweet_advanced)\n",
    "\n",
    "# Create feature matrix with improved vectorizer\n",
    "vectorizer = TfidfVectorizer(\n",
    "    max_features=10000,  # Large feature set\n",
    "    ngram_range=(1, 3),  # Include up to trigrams\n",
    "    min_df=2,           # Remove rare terms\n",
    "    max_df=0.95         # Remove very common terms\n",
    ")\n",
    "\n",
    "# Transform text to features\n",
    "X = vectorizer.fit_transform(df['cleaned_text'])\n",
    "y = df['sentiment']\n",
    "\n",
    "# Split the data\n",
    "X_train, X_test, y_train, y_test = train_test_split(X, y, test_size=0.2, random_state=42)"
   ]
  },
  {
   "cell_type": "markdown",
   "id": "352f788d",
   "metadata": {},
   "source": [
    "## Model Training and Evaluation\n",
    "\n",
    "We'll try three approaches:\n",
    "1. Basic SVM model\n",
    "2. SVM with GridSearchCV for hyperparameter tuning\n",
    "3. Ensemble model combining SVM, Random Forest, and Logistic Regression"
   ]
  },
  {
   "cell_type": "code",
   "execution_count": null,
   "id": "e2a7958d",
   "metadata": {},
   "outputs": [
    {
     "name": "stdout",
     "output_type": "stream",
     "text": [
      "Training basic SVM model...\n",
      "Basic SVM Results:\n",
      "Accuracy: 0.7079694323144105\n",
      "\n",
      "Classification Report:\n",
      "              precision    recall  f1-score   support\n",
      "\n",
      "    negative       0.75      0.58      0.66      1572\n",
      "     neutral       0.64      0.78      0.70      2236\n",
      "    positive       0.80      0.73      0.76      1688\n",
      "\n",
      "    accuracy                           0.71      5496\n",
      "   macro avg       0.73      0.70      0.71      5496\n",
      "weighted avg       0.72      0.71      0.71      5496\n",
      "\n",
      "Basic SVM Results:\n",
      "Accuracy: 0.7079694323144105\n",
      "\n",
      "Classification Report:\n",
      "              precision    recall  f1-score   support\n",
      "\n",
      "    negative       0.75      0.58      0.66      1572\n",
      "     neutral       0.64      0.78      0.70      2236\n",
      "    positive       0.80      0.73      0.76      1688\n",
      "\n",
      "    accuracy                           0.71      5496\n",
      "   macro avg       0.73      0.70      0.71      5496\n",
      "weighted avg       0.72      0.71      0.71      5496\n",
      "\n"
     ]
    },
    {
     "data": {
      "image/png": "[encoded data removed]",
      "text/plain": [
       "<Figure size 800x600 with 2 Axes>"
      ]
     },
     "metadata": {},
     "output_type": "display_data"
    }
   ],
   "source": [
    "# 1. Basic SVM Model\n",
    "print(\"Training basic SVM model...\")\n",
    "svm_basic = SVC(kernel='linear', C=1.0, random_state=42)\n",
    "svm_basic.fit(X_train, y_train)\n",
    "y_pred_basic = svm_basic.predict(X_test)\n",
    "\n",
    "print(\"Basic SVM Results:\")\n",
    "print(\"Accuracy:\", accuracy_score(y_test, y_pred_basic))\n",
    "print(\"\\nClassification Report:\")\n",
    "print(classification_report(y_test, y_pred_basic))\n",
    "\n",
    "# Plot confusion matrix\n",
    "cm_basic = confusion_matrix(y_test, y_pred_basic)\n",
    "plt.figure(figsize=(8,6))\n",
    "sns.heatmap(cm_basic, annot=True, fmt='d', cmap='Blues',\n",
    "            xticklabels=sorted(y.unique()),\n",
    "            yticklabels=sorted(y.unique()))\n",
    "plt.title('Confusion Matrix - Basic SVM')\n",
    "plt.ylabel('True Label')\n",
    "plt.xlabel('Predicted Label')\n",
    "plt.show()"
   ]
  },
  {
   "cell_type": "code",
   "execution_count": 10,
   "id": "ed2059f5",
   "metadata": {},
   "outputs": [
    {
     "name": "stdout",
     "output_type": "stream",
     "text": [
      "Training SVM with GridSearchCV...\n",
      "\n",
      "GridSearchCV Results:\n",
      "Best parameters: {'C': 1, 'gamma': 'scale', 'kernel': 'linear'}\n",
      "Best cross-validation accuracy: 0.6887281659388647\n",
      "\n",
      "GridSearchCV Results:\n",
      "Best parameters: {'C': 1, 'gamma': 'scale', 'kernel': 'linear'}\n",
      "Best cross-validation accuracy: 0.6887281659388647\n",
      "\n",
      "Test Set Results:\n",
      "Accuracy: 0.7079694323144105\n",
      "\n",
      "Classification Report:\n",
      "              precision    recall  f1-score   support\n",
      "\n",
      "    negative       0.75      0.58      0.66      1572\n",
      "     neutral       0.64      0.78      0.70      2236\n",
      "    positive       0.80      0.73      0.76      1688\n",
      "\n",
      "    accuracy                           0.71      5496\n",
      "   macro avg       0.73      0.70      0.71      5496\n",
      "weighted avg       0.72      0.71      0.71      5496\n",
      "\n",
      "\n",
      "Test Set Results:\n",
      "Accuracy: 0.7079694323144105\n",
      "\n",
      "Classification Report:\n",
      "              precision    recall  f1-score   support\n",
      "\n",
      "    negative       0.75      0.58      0.66      1572\n",
      "     neutral       0.64      0.78      0.70      2236\n",
      "    positive       0.80      0.73      0.76      1688\n",
      "\n",
      "    accuracy                           0.71      5496\n",
      "   macro avg       0.73      0.70      0.71      5496\n",
      "weighted avg       0.72      0.71      0.71      5496\n",
      "\n"
     ]
    },
    {
     "data": {
      "image/png": "[encoded data removed]",
      "text/plain": [
       "<Figure size 800x600 with 2 Axes>"
      ]
     },
     "metadata": {},
     "output_type": "display_data"
    }
   ],
   "source": [
    "# 2. SVM with GridSearchCV\n",
    "print(\"Training SVM with GridSearchCV...\")\n",
    "param_grid = {\n",
    "    'C': [0.1, 1, 10],\n",
    "    'kernel': ['linear', 'rbf'],\n",
    "    'gamma': ['scale', 'auto']\n",
    "}\n",
    "\n",
    "grid = GridSearchCV(SVC(), param_grid, cv=3, scoring='accuracy', n_jobs=-1)\n",
    "grid.fit(X_train, y_train)\n",
    "\n",
    "print(\"\\nGridSearchCV Results:\")\n",
    "print(\"Best parameters:\", grid.best_params_)\n",
    "print(\"Best cross-validation accuracy:\", grid.best_score_)\n",
    "\n",
    "# Evaluate on test set\n",
    "best_svm = grid.best_estimator_\n",
    "y_pred_grid = best_svm.predict(X_test)\n",
    "print(\"\\nTest Set Results:\")\n",
    "print(\"Accuracy:\", accuracy_score(y_test, y_pred_grid))\n",
    "print(\"\\nClassification Report:\")\n",
    "print(classification_report(y_test, y_pred_grid))\n",
    "\n",
    "# Plot confusion matrix\n",
    "cm_grid = confusion_matrix(y_test, y_pred_grid)\n",
    "plt.figure(figsize=(8,6))\n",
    "sns.heatmap(cm_grid, annot=True, fmt='d', cmap='Blues',\n",
    "            xticklabels=sorted(y.unique()),\n",
    "            yticklabels=sorted(y.unique()))\n",
    "plt.title('Confusion Matrix - Tuned SVM')\n",
    "plt.ylabel('True Label')\n",
    "plt.xlabel('Predicted Label')\n",
    "plt.show()"
   ]
  },
  {
   "cell_type": "code",
   "execution_count": 11,
   "id": "03ccd535",
   "metadata": {},
   "outputs": [],
   "source": [
    "param_grid = {\n",
    "    'C': [0.1, 1, 10],\n",
    "    'kernel': ['linear', 'rbf'],\n",
    "    'gamma': ['scale', 'auto']\n",
    "}\n",
    "\n",
    "grid = GridSearchCV(SVC(), param_grid, cv=3, scoring='accuracy', n_jobs=-1)\n",
    "grid.fit(X_train, y_train)\n",
    "\n",
    "best_svm = grid.best_estimator_\n"
   ]
  },
  {
   "cell_type": "code",
   "execution_count": 12,
   "id": "b0eb1556",
   "metadata": {},
   "outputs": [
    {
     "name": "stdout",
     "output_type": "stream",
     "text": [
      "✅ Model and vectorizer saved successfully.\n"
     ]
    }
   ],
   "source": [
    "import joblib\n",
    "\n",
    "# Save best model and vectorizer\n",
    "joblib.dump(best_svm, \"svm_sentiment_model.pkl\")\n",
    "joblib.dump(vectorizer, \"tfidf_vectorizer.pkl\")\n",
    "\n",
    "print(\"✅ Model and vectorizer saved successfully.\")\n",
    "\n"
   ]
  },
  {
   "cell_type": "code",
   "execution_count": 13,
   "id": "6a6edcbf",
   "metadata": {},
   "outputs": [
    {
     "name": "stdout",
     "output_type": "stream",
     "text": [
      "Model and vectorizer saved successfully in the 'models' directory!\n"
     ]
    }
   ],
   "source": [
    "# Save the best model and vectorizer\n",
    "import joblib\n",
    "from pathlib import Path\n",
    "\n",
    "# Create models directory if it doesn't exist\n",
    "model_dir = Path(\"models\")\n",
    "model_dir.mkdir(exist_ok=True)\n",
    "\n",
    "# Save the best performing model (in this case, the best SVM model)\n",
    "joblib.dump(best_svm, model_dir / \"ensemble_model.pkl\")\n",
    "\n",
    "# Save the vectorizer used for feature extraction\n",
    "joblib.dump(vectorizer, model_dir / \"vectorizer.pkl\")\n",
    "\n",
    "print(\"Model and vectorizer saved successfully in the 'models' directory!\")"
   ]
  },
  {
   "cell_type": "markdown",
   "id": "454aeb2e",
   "metadata": {},
   "source": [
    "## Train and Save Final Model with Probability Support"
   ]
  },
  {
   "cell_type": "code",
   "execution_count": 14,
   "id": "6e956787",
   "metadata": {},
   "outputs": [
    {
     "name": "stdout",
     "output_type": "stream",
     "text": [
      "Model (with probability support) and vectorizer saved successfully!\n"
     ]
    }
   ],
   "source": [
    "# Train a new SVM model with probability support\n",
    "final_svm = SVC(kernel='linear', C=1.0, probability=True, random_state=42)\n",
    "final_svm.fit(X_train, y_train)\n",
    "\n",
    "# Create models directory if it doesn't exist\n",
    "model_dir = Path(\"models\")\n",
    "model_dir.mkdir(exist_ok=True)\n",
    "\n",
    "# Save the final model and vectorizer\n",
    "joblib.dump(final_svm, model_dir / \"ensemble_model.pkl\")\n",
    "joblib.dump(vectorizer, model_dir / \"vectorizer.pkl\")\n",
    "\n",
    "print(\"Model (with probability support) and vectorizer saved successfully!\")"
   ]
  }
 ],
 "metadata": {
  "kernelspec": {
   "display_name": "Python 3",
   "language": "python",
   "name": "python3"
  },
  "language_info": {
   "codemirror_mode": {
    "name": "ipython",
    "version": 3
   },
   "file_extension": ".py",
   "mimetype": "text/x-python",
   "name": "python",
   "nbconvert_exporter": "python",
   "pygments_lexer": "ipython3",
   "version": "3.13.7"
  }
 },
 "nbformat": 4,
 "nbformat_minor": 5
}
